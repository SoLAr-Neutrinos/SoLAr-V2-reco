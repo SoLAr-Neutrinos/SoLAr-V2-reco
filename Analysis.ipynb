{
 "cells": [
  {
   "cell_type": "markdown",
   "id": "0",
   "metadata": {
    "papermill": {
     "duration": 0.031212,
     "end_time": "2024-04-02T13:39:51.438313",
     "exception": false,
     "start_time": "2024-04-02T13:39:51.407101",
     "status": "completed"
    },
    "tags": []
   },
   "source": [
    "# Imports"
   ]
  },
  {
   "cell_type": "code",
   "execution_count": null,
   "id": "1",
   "metadata": {},
   "outputs": [],
   "source": [
    "from solarv2 import *"
   ]
  },
  {
   "cell_type": "code",
   "execution_count": null,
   "id": "2",
   "metadata": {
    "papermill": {
     "duration": 14.795263,
     "end_time": "2024-04-02T13:40:06.259511",
     "exception": false,
     "start_time": "2024-04-02T13:39:51.464248",
     "status": "completed"
    },
    "tags": []
   },
   "outputs": [],
   "source": [
    "init_notebook_mode(all_interactive=True)"
   ]
  },
  {
   "cell_type": "markdown",
   "id": "3",
   "metadata": {
    "papermill": {
     "duration": 0.061527,
     "end_time": "2024-04-02T13:40:06.362394",
     "exception": false,
     "start_time": "2024-04-02T13:40:06.300867",
     "status": "completed"
    },
    "tags": []
   },
   "source": [
    "# Parameters"
   ]
  },
  {
   "cell_type": "code",
   "execution_count": null,
   "id": "4",
   "metadata": {
    "papermill": {
     "duration": 0.04379,
     "end_time": "2024-04-02T13:40:06.582970",
     "exception": false,
     "start_time": "2024-04-02T13:40:06.539180",
     "status": "completed"
    },
    "tags": [
     "parameters"
    ]
   },
   "outputs": [],
   "source": [
    "# Save options\n",
    "params.output_folder = \"combined\"\n",
    "params.save_figures = True\n",
    "\n",
    "# Plotting options\n",
    "params.individual_plots = [f\"20230706_191437_{i}\" for i in np.arange(1, 101, 1)]\n",
    "params.show_figures = True\n",
    "params.label_font_size = 16\n",
    "params.tick_font_size = 16\n",
    "params.title_font_size = 18\n",
    "\n",
    "# Light variable to consider\n",
    "params.light_variable = \"integral\"\n",
    "\n",
    "# Units for plot labels\n",
    "params.q_unit = \"e\"  # After applying charge_gain\n",
    "params.xy_unit = \"mm\"\n",
    "params.z_unit = \"mm\"\n",
    "params.time_unit = \"ns\"\n",
    "\n",
    "# Conversion factors\n",
    "params.lifetime = 1.688\n",
    "params.detector_z = 300\n",
    "params.detector_x = 128\n",
    "params.detector_y = 160\n",
    "\n",
    "\n",
    "# Filters for post processing if not using filter parameters file\n",
    "params.min_score = -1.0\n",
    "params.max_score = 1.0\n",
    "params.min_track_length = 0\n",
    "params.max_track_length = np.inf\n",
    "params.max_tracks = 1\n",
    "params.max_light = np.inf\n",
    "params.min_light = 0\n",
    "params.max_z = np.inf"
   ]
  },
  {
   "cell_type": "code",
   "execution_count": null,
   "id": "5",
   "metadata": {},
   "outputs": [],
   "source": [
    "recal_params()"
   ]
  },
  {
   "cell_type": "code",
   "execution_count": null,
   "id": "6",
   "metadata": {},
   "outputs": [],
   "source": [
    "metrics_file = f\"{params.output_folder}/metrics_{params.output_folder}.pkl\"\n",
    "# To load all filter parameters from saved JSON if it is not None and exists. Will overwrite all variables.\n",
    "filter_file = None  # \"combined/filter_parameters_27786.json\""
   ]
  },
  {
   "cell_type": "code",
   "execution_count": null,
   "id": "7",
   "metadata": {},
   "outputs": [],
   "source": [
    "params.output_folder = \"_\".join(metrics_file.split(\".\")[0].split(\"/\")[:-1])\n",
    "if params.output_folder == \"\":\n",
    "    params.output_folder = \"combined\""
   ]
  },
  {
   "cell_type": "markdown",
   "id": "8",
   "metadata": {
    "papermill": {
     "duration": 0.029047,
     "end_time": "2024-04-02T13:40:09.565119",
     "exception": false,
     "start_time": "2024-04-02T13:40:09.536072",
     "status": "completed"
    },
    "tags": []
   },
   "source": [
    "# File loading"
   ]
  },
  {
   "cell_type": "code",
   "execution_count": null,
   "id": "9",
   "metadata": {
    "papermill": {
     "duration": 8.449629,
     "end_time": "2024-04-02T13:40:18.044459",
     "exception": false,
     "start_time": "2024-04-02T13:40:09.594830",
     "status": "completed"
    },
    "tags": []
   },
   "outputs": [],
   "source": [
    "# Load metrics from pickle file\n",
    "if params.output_folder == \"combined\" and not os.path.isfile(metrics_file):\n",
    "    metrics = combine_metrics()\n",
    "else:\n",
    "    with open(metrics_file, \"rb\") as f:\n",
    "        metrics = pickle.load(f)"
   ]
  },
  {
   "cell_type": "code",
   "execution_count": null,
   "id": "10",
   "metadata": {
    "papermill": {
     "duration": 0.446415,
     "end_time": "2024-04-02T13:40:18.528325",
     "exception": false,
     "start_time": "2024-04-02T13:40:18.081910",
     "status": "completed"
    },
    "tags": []
   },
   "outputs": [],
   "source": [
    "cached_metrics = metrics\n",
    "if filter_file is not None and os.path.isfile(filter_file):\n",
    "    with open(filter_file, \"r\") as f:\n",
    "        filter_settings = json.load(f)\n",
    "        metrics = filter_metrics(\n",
    "            metrics,\n",
    "            **filter_settings,\n",
    "        )\n",
    "        globals().update(filter_settings)\n",
    "else:\n",
    "    metrics = filter_metrics(metrics)"
   ]
  },
  {
   "cell_type": "code",
   "execution_count": null,
   "id": "11",
   "metadata": {},
   "outputs": [],
   "source": [
    "# Save parameters to JSON just in case\n",
    "params_to_json(f\"{params.output_folder}/analysis_parameters_{params.output_folder}.json\")"
   ]
  },
  {
   "cell_type": "markdown",
   "id": "12",
   "metadata": {
    "papermill": {
     "duration": 0.029149,
     "end_time": "2024-04-02T13:40:18.587359",
     "exception": false,
     "start_time": "2024-04-02T13:40:18.558210",
     "status": "completed"
    },
    "tags": []
   },
   "source": [
    "# Analysis"
   ]
  },
  {
   "cell_type": "code",
   "execution_count": null,
   "id": "13",
   "metadata": {
    "papermill": {
     "duration": 7.460966,
     "end_time": "2024-04-02T13:40:26.078461",
     "exception": false,
     "start_time": "2024-04-02T13:40:18.617495",
     "status": "completed"
    },
    "tags": []
   },
   "outputs": [],
   "source": [
    "metrics"
   ]
  },
  {
   "cell_type": "markdown",
   "id": "14",
   "metadata": {
    "papermill": {
     "duration": 0.174601,
     "end_time": "2024-04-02T13:40:26.448613",
     "exception": false,
     "start_time": "2024-04-02T13:40:26.274012",
     "status": "completed"
    },
    "tags": []
   },
   "source": [
    "## dQ/dx"
   ]
  },
  {
   "cell_type": "markdown",
   "id": "15",
   "metadata": {
    "papermill": {
     "duration": 0.176303,
     "end_time": "2024-04-02T13:40:26.800789",
     "exception": false,
     "start_time": "2024-04-02T13:40:26.624486",
     "status": "completed"
    },
    "tags": []
   },
   "source": [
    "### Statistical plots"
   ]
  },
  {
   "cell_type": "code",
   "execution_count": null,
   "id": "16",
   "metadata": {
    "papermill": {
     "duration": 31.749928,
     "end_time": "2024-04-02T13:40:58.721015",
     "exception": false,
     "start_time": "2024-04-02T13:40:26.971087",
     "status": "completed"
    },
    "tags": []
   },
   "outputs": [],
   "source": [
    "plot_track_stats(\n",
    "    metrics,\n",
    "    limit_xrange=True,\n",
    "    empty_ratio_lims=(0.0, 1),\n",
    "    lognorm=False,\n",
    "    min_entries=2,\n",
    "    min_score=0.5,\n",
    "    bins=[40, 40],\n",
    "    profile=False,\n",
    ")\n",
    "if params.show_figures:\n",
    "    plt.show()\n",
    "else:\n",
    "    plt.close(\"all\")"
   ]
  },
  {
   "cell_type": "code",
   "execution_count": null,
   "id": "17",
   "metadata": {
    "papermill": {
     "duration": 24.729637,
     "end_time": "2024-04-02T13:41:23.648831",
     "exception": false,
     "start_time": "2024-04-02T13:40:58.919194",
     "status": "completed"
    },
    "tags": []
   },
   "outputs": [],
   "source": [
    "plot_track_stats(\n",
    "    metrics,\n",
    "    limit_xrange=False,\n",
    "    empty_ratio_lims=(0.0, 1),\n",
    "    lognorm=True,\n",
    "    min_entries=2,\n",
    "    min_score=0.5,\n",
    "    bins=[40, 40],\n",
    "    profile=True,\n",
    ")\n",
    "plt.close(\"all\")"
   ]
  },
  {
   "cell_type": "markdown",
   "id": "18",
   "metadata": {
    "papermill": {
     "duration": 16.076484,
     "end_time": "2024-04-02T13:41:40.286151",
     "exception": false,
     "start_time": "2024-04-02T13:41:24.209667",
     "status": "completed"
    },
    "tags": []
   },
   "source": [
    "### Individual plots"
   ]
  },
  {
   "cell_type": "code",
   "execution_count": null,
   "id": "19",
   "metadata": {
    "papermill": {
     "duration": 16.076484,
     "end_time": "2024-04-02T13:41:40.286151",
     "exception": false,
     "start_time": "2024-04-02T13:41:24.209667",
     "status": "completed"
    },
    "tags": []
   },
   "outputs": [],
   "source": [
    "for event_idx in tqdm(params.individual_plots, leave=False):\n",
    "    if event_idx in metrics:\n",
    "        for track_idx, values in metrics[event_idx].items():\n",
    "            if not isinstance(track_idx, str) and track_idx > 0:\n",
    "                dQ_series = values[\"dQ\"]\n",
    "                dh_series = values[\"dx\"]\n",
    "                plot_dQ(dQ_series, dh_series, event_idx, track_idx, interpolate=False)\n",
    "\n",
    "                if params.show_figures:\n",
    "                    plt.show()\n",
    "                else:\n",
    "                    plt.close(\"all\")"
   ]
  },
  {
   "cell_type": "markdown",
   "id": "20",
   "metadata": {
    "papermill": {
     "duration": 0.180608,
     "end_time": "2024-04-02T13:43:59.581911",
     "exception": false,
     "start_time": "2024-04-02T13:43:59.401303",
     "status": "completed"
    },
    "tags": []
   },
   "source": [
    "## Track angles"
   ]
  },
  {
   "cell_type": "code",
   "execution_count": null,
   "id": "21",
   "metadata": {},
   "outputs": [],
   "source": [
    "plot_track_angles(metrics)\n",
    "plt.show()"
   ]
  },
  {
   "cell_type": "markdown",
   "id": "22",
   "metadata": {
    "papermill": {
     "duration": 0.185379,
     "end_time": "2024-04-02T13:41:41.056750",
     "exception": false,
     "start_time": "2024-04-02T13:41:40.871371",
     "status": "completed"
    },
    "tags": []
   },
   "source": [
    "## Light to track Geometry"
   ]
  },
  {
   "cell_type": "code",
   "execution_count": null,
   "id": "23",
   "metadata": {
    "papermill": {
     "duration": 0.185379,
     "end_time": "2024-04-02T13:41:41.056750",
     "exception": false,
     "start_time": "2024-04-02T13:41:40.871371",
     "status": "completed"
    },
    "tags": []
   },
   "outputs": [],
   "source": [
    "warnings.filterwarnings(\"ignore\", category=Warning, module=\"numpy\")"
   ]
  },
  {
   "cell_type": "code",
   "execution_count": null,
   "id": "24",
   "metadata": {
    "papermill": {
     "duration": 10.84412,
     "end_time": "2024-04-02T13:41:52.083610",
     "exception": false,
     "start_time": "2024-04-02T13:41:41.239490",
     "status": "completed"
    },
    "tags": []
   },
   "outputs": [],
   "source": [
    "plot_light_geo_stats(\n",
    "    metrics,\n",
    "    single_track=True,\n",
    "    limit_xrange=True,\n",
    "    lognorm=True,\n",
    ")\n",
    "if params.show_figures:\n",
    "    plt.show()\n",
    "else:\n",
    "    plt.close(\"all\")"
   ]
  },
  {
   "cell_type": "code",
   "execution_count": null,
   "id": "25",
   "metadata": {
    "papermill": {
     "duration": 0.192375,
     "end_time": "2024-04-02T13:41:52.488352",
     "exception": false,
     "start_time": "2024-04-02T13:41:52.295977",
     "status": "completed"
    },
    "tags": []
   },
   "outputs": [],
   "source": [
    "warnings.filterwarnings(\"default\", category=Warning)"
   ]
  },
  {
   "cell_type": "markdown",
   "id": "26",
   "metadata": {
    "papermill": {
     "duration": 0.179885,
     "end_time": "2024-04-02T13:41:52.857666",
     "exception": false,
     "start_time": "2024-04-02T13:41:52.677781",
     "status": "completed"
    },
    "tags": []
   },
   "source": [
    "## Total Light vs. Charge"
   ]
  },
  {
   "cell_type": "code",
   "execution_count": null,
   "id": "27",
   "metadata": {
    "papermill": {
     "duration": 0.190282,
     "end_time": "2024-04-02T13:41:53.230118",
     "exception": false,
     "start_time": "2024-04-02T13:41:53.039836",
     "status": "completed"
    },
    "tags": []
   },
   "outputs": [],
   "source": [
    "warnings.filterwarnings(\"ignore\", category=Warning, module=\"numpy\")"
   ]
  },
  {
   "cell_type": "code",
   "execution_count": null,
   "id": "28",
   "metadata": {
    "papermill": {
     "duration": 11.92985,
     "end_time": "2024-04-02T13:42:05.349149",
     "exception": false,
     "start_time": "2024-04-02T13:41:53.419299",
     "status": "completed"
    },
    "tags": []
   },
   "outputs": [],
   "source": [
    "plot_light_vs_charge(\n",
    "    metrics,\n",
    "    clusters=1,\n",
    "    bin_density=1,\n",
    "    log=(True, False),\n",
    "    p0=True,\n",
    ")\n",
    "\n",
    "if params.show_figures:\n",
    "    plt.show()\n",
    "else:\n",
    "    plt.close(\"all\")"
   ]
  },
  {
   "cell_type": "code",
   "execution_count": null,
   "id": "29",
   "metadata": {
    "papermill": {
     "duration": 0.196972,
     "end_time": "2024-04-02T13:42:05.763286",
     "exception": false,
     "start_time": "2024-04-02T13:42:05.566314",
     "status": "completed"
    },
    "tags": []
   },
   "outputs": [],
   "source": [
    "# Reset the warning filter (optional)\n",
    "warnings.filterwarnings(\"default\", category=Warning)"
   ]
  },
  {
   "cell_type": "markdown",
   "id": "30",
   "metadata": {
    "papermill": {
     "duration": 0.186476,
     "end_time": "2024-04-02T13:42:06.127790",
     "exception": false,
     "start_time": "2024-04-02T13:42:05.941314",
     "status": "completed"
    },
    "tags": []
   },
   "source": [
    "## Voxelized Light vs. Charge"
   ]
  },
  {
   "cell_type": "code",
   "execution_count": null,
   "id": "31",
   "metadata": {
    "papermill": {
     "duration": 0.199819,
     "end_time": "2024-04-02T13:42:06.513145",
     "exception": false,
     "start_time": "2024-04-02T13:42:06.313326",
     "status": "completed"
    },
    "tags": []
   },
   "outputs": [],
   "source": [
    "warnings.filterwarnings(\"ignore\", category=Warning, module=\"numpy\")"
   ]
  },
  {
   "cell_type": "code",
   "execution_count": null,
   "id": "32",
   "metadata": {
    "papermill": {
     "duration": 6.760646,
     "end_time": "2024-04-02T13:42:13.466513",
     "exception": false,
     "start_time": "2024-04-02T13:42:06.705867",
     "status": "completed"
    },
    "tags": []
   },
   "outputs": [],
   "source": [
    "plot_voxel_data(metrics, log=(False, False, False), lognorm=False)  # (Z, Charge, Light)\n",
    "\n",
    "if params.show_figures:\n",
    "    plt.show()\n",
    "else:\n",
    "    plt.close(\"all\")"
   ]
  },
  {
   "cell_type": "code",
   "execution_count": null,
   "id": "33",
   "metadata": {
    "papermill": {
     "duration": 0.20346,
     "end_time": "2024-04-02T13:42:13.872423",
     "exception": false,
     "start_time": "2024-04-02T13:42:13.668963",
     "status": "completed"
    },
    "tags": []
   },
   "outputs": [],
   "source": [
    "warnings.filterwarnings(\"default\", category=Warning)"
   ]
  },
  {
   "cell_type": "markdown",
   "id": "34",
   "metadata": {
    "papermill": {
     "duration": 0.202382,
     "end_time": "2024-04-02T13:42:14.272439",
     "exception": false,
     "start_time": "2024-04-02T13:42:14.070057",
     "status": "completed"
    },
    "tags": []
   },
   "source": [
    "## Light fit vs. Charge fit"
   ]
  },
  {
   "cell_type": "code",
   "execution_count": null,
   "id": "35",
   "metadata": {
    "papermill": {
     "duration": 104.380742,
     "end_time": "2024-04-02T13:43:58.833353",
     "exception": false,
     "start_time": "2024-04-02T13:42:14.452611",
     "status": "completed"
    },
    "tags": []
   },
   "outputs": [],
   "source": [
    "plot_light_fit_stats(\n",
    "    metrics,\n",
    ")\n",
    "\n",
    "if params.show_figures:\n",
    "    plt.show()\n",
    "else:\n",
    "    plt.close(\"all\")"
   ]
  },
  {
   "cell_type": "markdown",
   "id": "36",
   "metadata": {
    "papermill": {
     "duration": 0.190236,
     "end_time": "2024-04-02T13:43:59.218493",
     "exception": false,
     "start_time": "2024-04-02T13:43:59.028257",
     "status": "completed"
    },
    "tags": []
   },
   "source": [
    "# Other"
   ]
  },
  {
   "cell_type": "markdown",
   "id": "37",
   "metadata": {},
   "source": [
    "## Heat map"
   ]
  },
  {
   "cell_type": "code",
   "execution_count": null,
   "id": "38",
   "metadata": {},
   "outputs": [],
   "source": [
    "def sectorize_dqdx(metrics, bin_size=(32, 32)):\n",
    "    temp_df = get_track_stats(metrics)\n",
    "    temp_df = temp_df[temp_df[\"track_score\"] > 0.5]\n",
    "    dQdx_df = temp_df.explode(\"track_dQdx\")\n",
    "    dQdx_df[\"position\"] = temp_df[\"track_points\"].explode()\n",
    "    dQdx_df[\"x\"] = dQdx_df[\"position\"].apply(lambda x: x[0])\n",
    "    dQdx_df[\"y\"] = dQdx_df[\"position\"].apply(lambda x: x[1])\n",
    "    dQdx_df[\"z\"] = dQdx_df[\"position\"].apply(lambda x: x[2])\n",
    "    dQdx_df = dQdx_df[(dQdx_df[\"track_dQdx\"] > 0)].drop(\"position\", axis=1)\n",
    "\n",
    "    # Define the bin edges for a range of coordinates\n",
    "    x_bins = np.arange(\n",
    "        -params.detector_x / 2 - bin_size[0],\n",
    "        params.detector_x / 2 + 2 * bin_size[0],\n",
    "        bin_size[0],\n",
    "    )\n",
    "    y_bins = np.arange(\n",
    "        -params.detector_y / 2 - bin_size[1],\n",
    "        params.detector_y / 2 + 2 * bin_size[1],\n",
    "        bin_size[1],\n",
    "    )\n",
    "\n",
    "    # Cut the data into bins\n",
    "    dQdx_df[\"x_bin\"] = pd.cut(dQdx_df[\"x\"], bins=x_bins, labels=False)\n",
    "    dQdx_df[\"y_bin\"] = pd.cut(dQdx_df[\"y\"], bins=y_bins, labels=False)\n",
    "    last_x = dQdx_df[\"x_bin\"].max()\n",
    "    last_y = dQdx_df[\"y_bin\"].max()\n",
    "    dQdx_df[\"x_bin\"] = dQdx_df[\"x_bin\"].apply(lambda x: 1 if x == 0 else last_x - 1 if x == last_x else x)\n",
    "    dQdx_df[\"y_bin\"] = dQdx_df[\"y_bin\"].apply(lambda x: 1 if x == 0 else last_y - 1 if x == last_y else x)\n",
    "\n",
    "    # Create a DataFrame for all possible bin combinations\n",
    "    all_bins = pd.DataFrame(\n",
    "        [(x, y) for x in dQdx_df[\"x_bin\"].unique() for y in dQdx_df[\"y_bin\"].unique()],\n",
    "        columns=[\"x_bin\", \"y_bin\"],\n",
    "    )\n",
    "\n",
    "    # Merge the actual data with the placeholder DataFrame\n",
    "    dQdx_df = pd.merge(all_bins, dQdx_df.reset_index(), on=[\"x_bin\", \"y_bin\"], how=\"left\").fillna(0)\n",
    "\n",
    "    # Combine the bins into a single sector identifier\n",
    "    dQdx_df[\"sector\"] = dQdx_df.apply(lambda row: (row[\"x_bin\"], row[\"y_bin\"]), axis=1)\n",
    "\n",
    "    return dQdx_df"
   ]
  },
  {
   "cell_type": "code",
   "execution_count": null,
   "id": "39",
   "metadata": {},
   "outputs": [],
   "source": [
    "dQdx_df = sectorize_dqdx(metrics, bin_size=(32, 32))"
   ]
  },
  {
   "cell_type": "code",
   "execution_count": null,
   "id": "40",
   "metadata": {},
   "outputs": [],
   "source": [
    "plt.scatter(dQdx_df[\"x\"], dQdx_df[\"y\"], c=dQdx_df[\"track_dQdx\"], s=0.1)\n",
    "plt.xticks(np.arange(-params.detector_x / 2, params.detector_x / 2 + 32, 32))\n",
    "plt.yticks(np.arange(-params.detector_y / 2, params.detector_y / 2 + 32, 32))\n",
    "plt.grid()\n",
    "plt.colorbar()"
   ]
  },
  {
   "cell_type": "code",
   "execution_count": null,
   "id": "41",
   "metadata": {},
   "outputs": [],
   "source": [
    "dQdx_df"
   ]
  },
  {
   "cell_type": "code",
   "execution_count": null,
   "id": "42",
   "metadata": {},
   "outputs": [],
   "source": [
    "counts = dQdx_df.pivot_table(index=\"y_bin\", columns=\"x_bin\", values=\"track_dQdx\", fill_value=0, aggfunc=\"count\")\n",
    "\n",
    "plt.pcolormesh(counts)\n",
    "cbar = plt.colorbar(label=\"Ratio per sector\")\n",
    "plt.gca().set_aspect(\"equal\", adjustable=\"box\")\n",
    "plt.xticks(counts.columns)\n",
    "plt.yticks(counts.index)\n",
    "plt.xlabel(\"X bin\")\n",
    "plt.ylabel(\"Y bin\")\n",
    "plt.title(\"Ratio of dQdx counts per sector\")\n",
    "plt.show()"
   ]
  },
  {
   "cell_type": "code",
   "execution_count": null,
   "id": "43",
   "metadata": {},
   "outputs": [],
   "source": [
    "fig, ax = plt.subplots(dQdx_df[\"y_bin\"].nunique(), dQdx_df[\"x_bin\"].nunique(), figsize=(20, 20))\n",
    "for sector in dQdx_df[\"sector\"].unique():\n",
    "    x = int(sector[0]) - 1\n",
    "    y = 4 - int(sector[1]) + 1\n",
    "    dQdx_df[dQdx_df[\"sector\"] == sector][\"track_dQdx\"].hist(ax=ax[y, x], bins=np.arange(0, 12e3, 400))"
   ]
  },
  {
   "cell_type": "code",
   "execution_count": null,
   "id": "44",
   "metadata": {},
   "outputs": [],
   "source": []
  }
 ],
 "metadata": {
  "kernelspec": {
   "display_name": "venv",
   "language": "python",
   "name": "python3"
  },
  "language_info": {
   "codemirror_mode": {
    "name": "ipython",
    "version": 3
   },
   "file_extension": ".py",
   "mimetype": "text/x-python",
   "name": "python",
   "nbconvert_exporter": "python",
   "pygments_lexer": "ipython3",
   "version": "3.9.12"
  },
  "papermill": {
   "default_parameters": {},
   "duration": 261.422506,
   "end_time": "2024-04-02T13:44:09.286000",
   "environment_variables": {},
   "exception": null,
   "input_path": "SoLAr-Ana.ipynb",
   "output_path": "SoLAr-Ana.ipynb",
   "parameters": {},
   "start_time": "2024-04-02T13:39:47.863494",
   "version": "2.5.0"
  }
 },
 "nbformat": 4,
 "nbformat_minor": 5
}
