{
 "cells": [
  {
   "cell_type": "markdown",
   "id": "0",
   "metadata": {
    "papermill": {
     "duration": 0.031212,
     "end_time": "2024-04-02T13:39:51.438313",
     "exception": false,
     "start_time": "2024-04-02T13:39:51.407101",
     "status": "completed"
    },
    "tags": []
   },
   "source": [
    "# Imports"
   ]
  },
  {
   "cell_type": "code",
   "execution_count": null,
   "id": "1",
   "metadata": {},
   "outputs": [],
   "source": [
    "import sys\n",
    "\n",
    "sys.path.append(\"..\")\n",
    "\n",
    "from solarv2 import *"
   ]
  },
  {
   "cell_type": "code",
   "execution_count": null,
   "id": "2",
   "metadata": {
    "papermill": {
     "duration": 14.795263,
     "end_time": "2024-04-02T13:40:06.259511",
     "exception": false,
     "start_time": "2024-04-02T13:39:51.464248",
     "status": "completed"
    },
    "tags": []
   },
   "outputs": [],
   "source": [
    "init_notebook_mode(all_interactive=True)"
   ]
  },
  {
   "cell_type": "markdown",
   "id": "3",
   "metadata": {
    "papermill": {
     "duration": 0.061527,
     "end_time": "2024-04-02T13:40:06.362394",
     "exception": false,
     "start_time": "2024-04-02T13:40:06.300867",
     "status": "completed"
    },
    "tags": []
   },
   "source": [
    "# Parameters"
   ]
  },
  {
   "cell_type": "code",
   "execution_count": null,
   "id": "6",
   "metadata": {
    "papermill": {
     "duration": 0.04379,
     "end_time": "2024-04-02T13:40:06.582970",
     "exception": false,
     "start_time": "2024-04-02T13:40:06.539180",
     "status": "completed"
    }
   },
   "outputs": [],
   "source": [
    "params.simulate_dead_area = False\n",
    "\n",
    "# Save options\n",
    "params.save_figures = True\n",
    "\n",
    "# Plotting options\n",
    "params.individual_plots = np.arange(1, 10, 1)\n",
    "params.show_figures = True\n",
    "params.label_font_size = 16\n",
    "params.tick_font_size = 16\n",
    "params.title_font_size = 18\n",
    "\n",
    "# Transform for real readout\n",
    "params.detector_x = params.quadrant_size * 8\n",
    "params.detector_y = params.quadrant_size * 8\n",
    "\n",
    "# Filters for post processing if not using filter parameters file\n",
    "params.min_score = -1.0\n",
    "params.max_score = 1.0\n",
    "params.min_track_length = 0\n",
    "params.max_track_length = np.inf\n",
    "params.max_tracks = 1\n",
    "params.max_light = np.inf\n",
    "params.min_light = 0\n",
    "params.max_z = np.inf"
   ]
  },
  {
   "cell_type": "code",
   "execution_count": null,
   "id": "5",
   "metadata": {
    "papermill": {
     "duration": 0.041546,
     "end_time": "2024-04-02T13:40:06.496111",
     "exception": false,
     "start_time": "2024-04-02T13:40:06.454565",
     "status": "completed"
    },
    "tags": [
     "parameters"
    ]
   },
   "outputs": [],
   "source": [
    "metrics_file = \"0977563451/metrics_0977563451.pkl\"\n",
    "if params.lifetime > 0:\n",
    "    metrics_file = metrics_file.replace(\".pkl\", f\"_lt{params.lifetime:.3}.pkl\")\n",
    "\n",
    "# To load all filter parameters from saved JSON if it is not None and exists. Will overwrite all variables.\n",
    "filter_file = None  # \"combined/filter_parameters_27786.json\""
   ]
  },
  {
   "cell_type": "code",
   "execution_count": null,
   "id": "8",
   "metadata": {},
   "outputs": [],
   "source": [
    "params.output_folder = \"_\".join(metrics_file.split(\".\")[0].split(\"/\")[:-1])\n",
    "if params.output_folder == \"\":\n",
    "    params.output_folder = \"combined\"\n",
    "if params.simulate_dead_area:\n",
    "    params.work_path = \"DA\""
   ]
  },
  {
   "cell_type": "code",
   "execution_count": null,
   "id": "7",
   "metadata": {},
   "outputs": [],
   "source": [
    "recal_params()"
   ]
  },
  {
   "cell_type": "markdown",
   "id": "9",
   "metadata": {
    "papermill": {
     "duration": 0.029047,
     "end_time": "2024-04-02T13:40:09.565119",
     "exception": false,
     "start_time": "2024-04-02T13:40:09.536072",
     "status": "completed"
    },
    "tags": []
   },
   "source": [
    "# File loading"
   ]
  },
  {
   "cell_type": "code",
   "execution_count": null,
   "id": "10",
   "metadata": {
    "papermill": {
     "duration": 8.449629,
     "end_time": "2024-04-02T13:40:18.044459",
     "exception": false,
     "start_time": "2024-04-02T13:40:09.594830",
     "status": "completed"
    },
    "tags": []
   },
   "outputs": [],
   "source": [
    "# Load metrics from pickle file\n",
    "if not os.path.isfile(metrics_file):\n",
    "    metrics = combine_metrics()\n",
    "else:\n",
    "    with open(metrics_file, \"rb\") as f:\n",
    "        metrics = pickle.load(f)"
   ]
  },
  {
   "cell_type": "code",
   "execution_count": null,
   "id": "db28fa0f",
   "metadata": {},
   "outputs": [],
   "source": [
    "cached_metrics = metrics\n",
    "if filter_file is not None and os.path.isfile(filter_file):\n",
    "    with open(filter_file, \"r\") as f:\n",
    "        filter_settings = json.load(f)\n",
    "        metrics = filter_metrics(\n",
    "            metrics,\n",
    "            **filter_settings,\n",
    "        )\n",
    "        globals().update(filter_settings)\n",
    "else:\n",
    "    metrics = filter_metrics(metrics)"
   ]
  },
  {
   "cell_type": "code",
   "execution_count": null,
   "id": "527f305a",
   "metadata": {},
   "outputs": [],
   "source": [
    "# Save parameters to JSON just in case\n",
    "params_to_json(\n",
    "    f\"{params.output_folder}/analysis_parameters_{params.output_folder}.json\"\n",
    ")"
   ]
  },
  {
   "cell_type": "markdown",
   "id": "12",
   "metadata": {
    "papermill": {
     "duration": 0.029149,
     "end_time": "2024-04-02T13:40:18.587359",
     "exception": false,
     "start_time": "2024-04-02T13:40:18.558210",
     "status": "completed"
    },
    "tags": []
   },
   "source": [
    "# Analysis"
   ]
  },
  {
   "cell_type": "code",
   "execution_count": null,
   "id": "13",
   "metadata": {
    "papermill": {
     "duration": 7.460966,
     "end_time": "2024-04-02T13:40:26.078461",
     "exception": false,
     "start_time": "2024-04-02T13:40:18.617495",
     "status": "completed"
    },
    "tags": []
   },
   "outputs": [],
   "source": [
    "metrics"
   ]
  },
  {
   "cell_type": "markdown",
   "id": "14",
   "metadata": {
    "papermill": {
     "duration": 0.174601,
     "end_time": "2024-04-02T13:40:26.448613",
     "exception": false,
     "start_time": "2024-04-02T13:40:26.274012",
     "status": "completed"
    },
    "tags": []
   },
   "source": [
    "## dQ/dx"
   ]
  },
  {
   "cell_type": "markdown",
   "id": "15",
   "metadata": {
    "papermill": {
     "duration": 0.176303,
     "end_time": "2024-04-02T13:40:26.800789",
     "exception": false,
     "start_time": "2024-04-02T13:40:26.624486",
     "status": "completed"
    },
    "tags": []
   },
   "source": [
    "### Statistical plots"
   ]
  },
  {
   "cell_type": "code",
   "execution_count": null,
   "id": "16",
   "metadata": {
    "papermill": {
     "duration": 31.749928,
     "end_time": "2024-04-02T13:40:58.721015",
     "exception": false,
     "start_time": "2024-04-02T13:40:26.971087",
     "status": "completed"
    },
    "tags": []
   },
   "outputs": [],
   "source": [
    "plot_track_stats(\n",
    "    metrics,\n",
    "    limit_xrange=True,\n",
    "    empty_ratio_lims=(0.0, 1),\n",
    "    lognorm=False,\n",
    "    min_entries=2,\n",
    "    min_score=0.5,\n",
    "    bins=[40, 40],\n",
    "    profile=False,\n",
    ")\n",
    "if params.show_figures:\n",
    "    plt.show()\n",
    "else:\n",
    "    plt.close(\"all\")"
   ]
  },
  {
   "cell_type": "code",
   "execution_count": null,
   "id": "17",
   "metadata": {
    "papermill": {
     "duration": 24.729637,
     "end_time": "2024-04-02T13:41:23.648831",
     "exception": false,
     "start_time": "2024-04-02T13:40:58.919194",
     "status": "completed"
    },
    "tags": []
   },
   "outputs": [],
   "source": [
    "plot_track_stats(\n",
    "    metrics,\n",
    "    limit_xrange=True,\n",
    "    empty_ratio_lims=(0.0, 1),\n",
    "    lognorm=True,\n",
    "    min_entries=2,\n",
    "    min_score=0.5,\n",
    "    bins=[40, 40],\n",
    "    profile=True,\n",
    ")\n",
    "plt.close(\"all\")"
   ]
  },
  {
   "cell_type": "markdown",
   "id": "18",
   "metadata": {
    "papermill": {
     "duration": 16.076484,
     "end_time": "2024-04-02T13:41:40.286151",
     "exception": false,
     "start_time": "2024-04-02T13:41:24.209667",
     "status": "completed"
    },
    "tags": []
   },
   "source": [
    "### Individual plots"
   ]
  },
  {
   "cell_type": "code",
   "execution_count": null,
   "id": "19",
   "metadata": {
    "papermill": {
     "duration": 16.076484,
     "end_time": "2024-04-02T13:41:40.286151",
     "exception": false,
     "start_time": "2024-04-02T13:41:24.209667",
     "status": "completed"
    },
    "tags": []
   },
   "outputs": [],
   "source": [
    "for event_idx in tqdm(params.individual_plots, leave=False):\n",
    "    if event_idx in metrics:\n",
    "        for track_idx, values in metrics[event_idx].items():\n",
    "            if not isinstance(track_idx, str) and track_idx > 0:\n",
    "                dQ_array = values[\"dQ\"]\n",
    "                dh = values[\"dx\"]\n",
    "                plot_dQ(dQ_array, event_idx, track_idx, dh, interpolate=False)\n",
    "\n",
    "                if params.show_figures:\n",
    "                    plt.show()\n",
    "                else:\n",
    "                    plt.close(\"all\")"
   ]
  },
  {
   "cell_type": "markdown",
   "id": "34",
   "metadata": {
    "papermill": {
     "duration": 0.190236,
     "end_time": "2024-04-02T13:43:59.218493",
     "exception": false,
     "start_time": "2024-04-02T13:43:59.028257",
     "status": "completed"
    },
    "tags": []
   },
   "source": [
    "# Other"
   ]
  },
  {
   "cell_type": "markdown",
   "id": "35",
   "metadata": {
    "papermill": {
     "duration": 0.180608,
     "end_time": "2024-04-02T13:43:59.581911",
     "exception": false,
     "start_time": "2024-04-02T13:43:59.401303",
     "status": "completed"
    },
    "tags": []
   },
   "source": [
    "## Track angles"
   ]
  },
  {
   "cell_type": "code",
   "execution_count": null,
   "id": "36",
   "metadata": {
    "papermill": {
     "duration": 3.302791,
     "end_time": "2024-04-02T13:44:03.073136",
     "exception": false,
     "start_time": "2024-04-02T13:43:59.770345",
     "status": "completed"
    },
    "tags": []
   },
   "outputs": [],
   "source": [
    "# Cos^2 of track angles\n",
    "def plot_track_angles(metrics):\n",
    "    cos_x = []\n",
    "    cos_y = []\n",
    "    cos_z = []\n",
    "    vectors = []\n",
    "    for idx, metric in metrics.items():\n",
    "        for track_idx, track in metric.items():\n",
    "            if type(track) is dict:\n",
    "                if \"RANSAC_score\" in track and track[\"RANSAC_score\"] < 0.5:\n",
    "                    continue\n",
    "                if \"Fit_norm\" in track and track[\"Fit_norm\"] < 1:\n",
    "                    continue\n",
    "                if \"Fit_line\" in track:\n",
    "                    cos_x.append(\n",
    "                        track[\"Fit_line\"].direction.cosine_similarity([1, 0, 0])\n",
    "                    )\n",
    "                    cos_y.append(\n",
    "                        track[\"Fit_line\"].direction.cosine_similarity([0, 1, 0])\n",
    "                    )\n",
    "                    cos_z.append(\n",
    "                        track[\"Fit_line\"].direction.cosine_similarity([0, 0, 1])\n",
    "                    )\n",
    "                    vectors.append(track[\"Fit_line\"].direction.to_array())\n",
    "\n",
    "    vectors = np.array(vectors)\n",
    "    cos_x = np.array(cos_x)\n",
    "    cos_y = np.array(cos_y)\n",
    "    cos_z = np.array(cos_z)\n",
    "\n",
    "    fig, ax = plt.subplots(2, 3, figsize=(18, 12))\n",
    "\n",
    "    ax[0, 0].hist(vectors[:, 0], bins=20)\n",
    "    ax[0, 0].set_xlabel(\"X vector component\")\n",
    "    ax[0, 1].hist(vectors[:, 1], bins=20)\n",
    "    ax[0, 1].set_xlabel(\"Y vector component\")\n",
    "    ax[0, 2].hist(vectors[:, 2], bins=20)\n",
    "    ax[0, 2].set_xlabel(\"Z vector component\")\n",
    "\n",
    "    ax[1, 0].hist(abs(cos_x), bins=20)\n",
    "    ax[1, 0].set_xlabel(\"Cosine similarity to x-axis\")\n",
    "    ax[1, 1].hist(abs(cos_y), bins=20)\n",
    "    ax[1, 1].set_xlabel(\"Cosine similarity to y-axis\")\n",
    "    ax[1, 2].hist(abs(cos_z), bins=20)\n",
    "    ax[1, 2].set_xlabel(\"Cosine similarity to z-axis\")\n",
    "\n",
    "    return fig, ax"
   ]
  },
  {
   "cell_type": "code",
   "execution_count": null,
   "id": "37",
   "metadata": {},
   "outputs": [],
   "source": [
    "plot_track_angles(metrics)\n",
    "plt.show()"
   ]
  },
  {
   "cell_type": "markdown",
   "id": "38",
   "metadata": {},
   "source": [
    "## Heat map"
   ]
  },
  {
   "cell_type": "code",
   "execution_count": null,
   "id": "39",
   "metadata": {},
   "outputs": [],
   "source": [
    "def sectorize_dqdx(metrics, bin_size=(32, 32)):\n",
    "    temp_df = get_track_stats(metrics)\n",
    "    temp_df = temp_df[temp_df[\"track_score\"] > 0.5]\n",
    "    dQdx_df = temp_df.explode(\"track_dQdx\")\n",
    "    dQdx_df[\"position\"] = temp_df[\"track_points\"].explode()\n",
    "    dQdx_df[\"x\"] = dQdx_df[\"position\"].apply(lambda x: x[0])\n",
    "    dQdx_df[\"y\"] = dQdx_df[\"position\"].apply(lambda x: x[1])\n",
    "    dQdx_df[\"z\"] = dQdx_df[\"position\"].apply(lambda x: x[2])\n",
    "    dQdx_df = dQdx_df[(dQdx_df[\"track_dQdx\"] > 0)].drop(\"position\", axis=1)\n",
    "\n",
    "    # Define the bin edges for a range of coordinates\n",
    "    x_bins = np.arange(\n",
    "        -params.detector_x / 2 - bin_size[0],\n",
    "        params.detector_x / 2 + 2 * bin_size[0],\n",
    "        bin_size[0],\n",
    "    )\n",
    "    y_bins = np.arange(\n",
    "        -params.detector_y / 2 - bin_size[1],\n",
    "        params.detector_y / 2 + 2 * bin_size[1],\n",
    "        bin_size[1],\n",
    "    )\n",
    "\n",
    "    # Cut the data into bins\n",
    "    dQdx_df[\"x_bin\"] = pd.cut(dQdx_df[\"x\"], bins=x_bins, labels=False)\n",
    "    dQdx_df[\"y_bin\"] = pd.cut(dQdx_df[\"y\"], bins=y_bins, labels=False)\n",
    "    last_x = dQdx_df[\"x_bin\"].max()\n",
    "    last_y = dQdx_df[\"y_bin\"].max()\n",
    "    dQdx_df[\"x_bin\"] = dQdx_df[\"x_bin\"].apply(\n",
    "        lambda x: 1 if x == 0 else last_x - 1 if x == last_x else x\n",
    "    )\n",
    "    dQdx_df[\"y_bin\"] = dQdx_df[\"y_bin\"].apply(\n",
    "        lambda x: 1 if x == 0 else last_y - 1 if x == last_y else x\n",
    "    )\n",
    "\n",
    "    # Create a DataFrame for all possible bin combinations\n",
    "    all_bins = pd.DataFrame(\n",
    "        [(x, y) for x in dQdx_df[\"x_bin\"].unique() for y in dQdx_df[\"y_bin\"].unique()],\n",
    "        columns=[\"x_bin\", \"y_bin\"],\n",
    "    )\n",
    "\n",
    "    # Merge the actual data with the placeholder DataFrame\n",
    "    dQdx_df = pd.merge(\n",
    "        all_bins, dQdx_df.reset_index(), on=[\"x_bin\", \"y_bin\"], how=\"left\"\n",
    "    ).fillna(0)\n",
    "\n",
    "    # Combine the bins into a single sector identifier\n",
    "    dQdx_df[\"sector\"] = dQdx_df.apply(lambda row: (row[\"x_bin\"], row[\"y_bin\"]), axis=1)\n",
    "\n",
    "    return dQdx_df"
   ]
  },
  {
   "cell_type": "code",
   "execution_count": null,
   "id": "40",
   "metadata": {},
   "outputs": [],
   "source": [
    "dQdx_df = sectorize_dqdx(metrics, bin_size=(32, 32))"
   ]
  },
  {
   "cell_type": "code",
   "execution_count": null,
   "id": "41",
   "metadata": {},
   "outputs": [],
   "source": [
    "plt.scatter(dQdx_df[\"x\"], dQdx_df[\"y\"], c=dQdx_df[\"track_dQdx\"], s=0.1)\n",
    "plt.xticks(np.arange(-params.detector_x / 2, params.detector_x / 2 + 32, 32))\n",
    "plt.yticks(np.arange(-params.detector_y / 2, params.detector_y / 2 + 32, 32))\n",
    "plt.grid()\n",
    "plt.colorbar()"
   ]
  },
  {
   "cell_type": "code",
   "execution_count": null,
   "id": "42",
   "metadata": {},
   "outputs": [],
   "source": [
    "counts = dQdx_df.pivot_table(\n",
    "    index=\"y_bin\", columns=\"x_bin\", values=\"track_dQdx\", fill_value=0, aggfunc=\"count\"\n",
    ")\n",
    "counts_cut = dQdx_df[\n",
    "    (1500 < dQdx_df[\"track_dQdx\"]) & (dQdx_df[\"track_dQdx\"] < 3000)\n",
    "].pivot_table(\n",
    "    index=\"y_bin\", columns=\"x_bin\", values=\"track_dQdx\", fill_value=0, aggfunc=\"count\"\n",
    ")\n",
    "\n",
    "plt.pcolormesh(counts_cut / counts)\n",
    "cbar = plt.colorbar(label=\"Ratio per sector\")\n",
    "plt.gca().set_aspect(\"equal\", adjustable=\"box\")\n",
    "plt.xticks(counts.columns)\n",
    "plt.yticks(counts.index)\n",
    "plt.xlabel(\"X bin\")\n",
    "plt.ylabel(\"Y bin\")\n",
    "plt.title(\"Ratio of dQdx counts per sector\")\n",
    "plt.show()"
   ]
  },
  {
   "cell_type": "code",
   "execution_count": null,
   "id": "43",
   "metadata": {},
   "outputs": [],
   "source": [
    "t = dQdx_df.groupby(\"event\")[\"track_dQdx\"].mean()\n",
    "t[((t < 3000) & (1500 < t))].index"
   ]
  },
  {
   "cell_type": "code",
   "execution_count": null,
   "id": "44",
   "metadata": {},
   "outputs": [],
   "source": [
    "fig, ax = plt.subplots(\n",
    "    dQdx_df[\"y_bin\"].nunique(), dQdx_df[\"x_bin\"].nunique(), figsize=(20, 20)\n",
    ")\n",
    "for sector in dQdx_df[\"sector\"].unique():\n",
    "    x = int(sector[0]) - 1\n",
    "    y = 4 - int(sector[1]) + 1\n",
    "    dQdx_df[dQdx_df[\"sector\"] == sector][\"track_dQdx\"].hist(\n",
    "        ax=ax[y, x], bins=np.arange(0, 12e3, 400)\n",
    "    )"
   ]
  },
  {
   "cell_type": "code",
   "execution_count": null,
   "id": "9b8d0d82",
   "metadata": {},
   "outputs": [],
   "source": []
  }
 ],
 "metadata": {
  "kernelspec": {
   "display_name": "venv",
   "language": "python",
   "name": "python3"
  },
  "language_info": {
   "codemirror_mode": {
    "name": "ipython",
    "version": 3
   },
   "file_extension": ".py",
   "mimetype": "text/x-python",
   "name": "python",
   "nbconvert_exporter": "python",
   "pygments_lexer": "ipython3",
   "version": "3.9.12"
  },
  "papermill": {
   "default_parameters": {},
   "duration": 261.422506,
   "end_time": "2024-04-02T13:44:09.286000",
   "environment_variables": {},
   "exception": null,
   "input_path": "SoLAr-Ana.ipynb",
   "output_path": "SoLAr-Ana.ipynb",
   "parameters": {},
   "start_time": "2024-04-02T13:39:47.863494",
   "version": "2.5.0"
  }
 },
 "nbformat": 4,
 "nbformat_minor": 5
}
