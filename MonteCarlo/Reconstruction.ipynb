{
 "cells": [
  {
   "cell_type": "markdown",
   "metadata": {},
   "source": [
    "# Imports"
   ]
  },
  {
   "cell_type": "code",
   "execution_count": null,
   "metadata": {},
   "outputs": [],
   "source": [
    "import sys\n",
    "\n",
    "sys.path.append(\"..\")\n",
    "\n",
    "from solarv2 import *\n",
    "from solarv2.mc import *"
   ]
  },
  {
   "cell_type": "markdown",
   "metadata": {},
   "source": [
    "# Parameters"
   ]
  },
  {
   "cell_type": "code",
   "execution_count": null,
   "metadata": {},
   "outputs": [],
   "source": [
    "# Load options\n",
    "params.reload_files = True\n",
    "params.simulate_dead_area = True\n",
    "\n",
    "# Save options\n",
    "params.overwrite_metrics = True\n",
    "params.save_figures = True\n",
    "\n",
    "# Plotting options\n",
    "params.flip_x = True\n",
    "params.individual_plots = np.arange(1, 11, 1)\n",
    "params.show_figures = False\n",
    "params.label_font_size = 16\n",
    "params.tick_font_size = 16\n",
    "params.title_font_size = 18\n",
    "\n",
    "# Events to process\n",
    "params.event_list = None\n",
    "\n",
    "# Noisy Pixels\n",
    "params.channel_disable_list = [(7, (1, 2))]  # (chip, channel)\n",
    "\n",
    "\n",
    "# Transform for real readout\n",
    "params.detector_x = params.quadrant_size * 8\n",
    "params.detector_y = params.quadrant_size * 8\n",
    "\n",
    "# DBSCAN parameters for charge clustering\n",
    "params.min_samples = 2\n",
    "params.xy_epsilon = 8  # 8 ideal\n",
    "params.z_epsilon = 8  # 8 ideal\n",
    "\n",
    "# RANSAC parameters for line fitting\n",
    "params.ransac_residual_threshold = params.xy_epsilon - 1  # 6 ideal for charge, 35 ideal for light\n",
    "params.ransac_max_trials = 1000\n",
    "params.ransac_min_samples = 2  # 2 ideal for charge, 3 ideal for light\n",
    "\n",
    "# Force parameters for cylinder\n",
    "params.force_dh = None\n",
    "params.force_dr = None"
   ]
  },
  {
   "cell_type": "code",
   "execution_count": null,
   "metadata": {
    "tags": [
     "parameters"
    ]
   },
   "outputs": [],
   "source": [
    "# File paths\n",
    "charge_file = \"/eos/experiment/dune/solar/montecarlo/singlecube/cosmic_v0/singlecube_cry_hit_0218622392_thrs3800.root\""
   ]
  },
  {
   "cell_type": "code",
   "execution_count": null,
   "metadata": {},
   "outputs": [],
   "source": [
    "params.output_folder = charge_file.split(\"_\")[-1].split(\".\")[0]\n",
    "if params.simulate_dead_area:\n",
    "    params.work_path = \"DA\""
   ]
  },
  {
   "cell_type": "code",
   "execution_count": null,
   "metadata": {},
   "outputs": [],
   "source": [
    "recal_params()\n",
    "translation = get_translation()"
   ]
  },
  {
   "cell_type": "markdown",
   "metadata": {},
   "source": [
    "# File handing"
   ]
  },
  {
   "cell_type": "markdown",
   "metadata": {},
   "source": [
    "## Loading"
   ]
  },
  {
   "cell_type": "code",
   "execution_count": null,
   "metadata": {},
   "outputs": [],
   "source": [
    "temp_filename = f\"{params.output_folder}/charge_df_{params.output_folder}.bz2\"\n",
    "if not params.reload_files and os.path.isfile(temp_filename):\n",
    "    charge_df = pd.read_csv(temp_filename, index_col=0)\n",
    "    if not params.event_list is None:\n",
    "        charge_df = charge_df.loc[params.event_list.intersection(charge_df.index)]\n",
    "    # for column in :\n",
    "    charge_df[charge_df.columns[9:]] = charge_df[charge_df.columns[9:]].applymap(\n",
    "        lambda x: literal_eval(x) if isinstance(x, str) else x\n",
    "    )\n",
    "else:\n",
    "    charge_df = load_charge(charge_file, events=params.event_list)\n",
    "\n",
    "del temp_filename"
   ]
  },
  {
   "cell_type": "code",
   "execution_count": null,
   "metadata": {},
   "outputs": [],
   "source": [
    "charge_df = montecarlo.rotate_coordinates(charge_df)"
   ]
  },
  {
   "cell_type": "code",
   "execution_count": null,
   "metadata": {},
   "outputs": [],
   "source": [
    "if params.simulate_dead_area:\n",
    "    # Cut SiPMs from the anode\n",
    "    charge_df = montecarlo.cut_sipms(charge_df)\n",
    "    # Cut dead chips from anode\n",
    "    charge_df = montecarlo.cut_chips(charge_df)"
   ]
  },
  {
   "cell_type": "code",
   "execution_count": null,
   "metadata": {},
   "outputs": [],
   "source": [
    "# Translate coordinates\n",
    "if any([t != 0 for t in translation]):\n",
    "    charge_df = montecarlo.translate_coordinates(charge_df, translation)"
   ]
  },
  {
   "cell_type": "code",
   "execution_count": null,
   "metadata": {},
   "outputs": [],
   "source": [
    "# Cut volume to live anode area\n",
    "charge_df = montecarlo.cut_volume(charge_df)"
   ]
  },
  {
   "cell_type": "markdown",
   "metadata": {},
   "source": [
    "## Saving"
   ]
  },
  {
   "cell_type": "code",
   "execution_count": null,
   "metadata": {},
   "outputs": [],
   "source": [
    "os.makedirs(params.output_folder, exist_ok=True)"
   ]
  },
  {
   "cell_type": "code",
   "execution_count": null,
   "metadata": {},
   "outputs": [],
   "source": [
    "# Only save files if all events were considered, i.e. event_list is None\n",
    "if params.event_list is None:\n",
    "    charge_df.to_csv(f\"{params.output_folder}/charge_df_{params.output_folder}.bz2\")"
   ]
  },
  {
   "cell_type": "code",
   "execution_count": null,
   "metadata": {},
   "outputs": [],
   "source": [
    "# Save parameters to JSON just in case\n",
    "params_to_json(f\"{params.output_folder}/reconstruction_parameters_{params.output_folder}.json\")"
   ]
  },
  {
   "cell_type": "markdown",
   "metadata": {},
   "source": [
    "## Verification"
   ]
  },
  {
   "cell_type": "code",
   "execution_count": null,
   "metadata": {},
   "outputs": [],
   "source": [
    "charge_df.columns"
   ]
  },
  {
   "cell_type": "code",
   "execution_count": null,
   "metadata": {},
   "outputs": [],
   "source": [
    "charge_df.count()"
   ]
  },
  {
   "cell_type": "markdown",
   "metadata": {},
   "source": [
    "### Histograms"
   ]
  },
  {
   "cell_type": "markdown",
   "metadata": {},
   "source": [
    "#### Charge"
   ]
  },
  {
   "cell_type": "code",
   "execution_count": null,
   "metadata": {},
   "outputs": [],
   "source": [
    "print(f\"Hits q in {params.q_unit}\")\n",
    "charge_df[\"hit_q\"].apply(tuple).explode().hist()"
   ]
  },
  {
   "cell_type": "code",
   "execution_count": null,
   "metadata": {},
   "outputs": [],
   "source": [
    "print(f\"Hits x in {params.z_unit}\")\n",
    "charge_df[\"hit_x\"].apply(tuple).explode().hist()"
   ]
  },
  {
   "cell_type": "code",
   "execution_count": null,
   "metadata": {},
   "outputs": [],
   "source": [
    "print(f\"Hits y in {params.z_unit}\")\n",
    "charge_df[\"hit_y\"].apply(tuple).explode().hist()"
   ]
  },
  {
   "cell_type": "code",
   "execution_count": null,
   "metadata": {},
   "outputs": [],
   "source": [
    "print(f\"Hits z in {params.z_unit}\")\n",
    "charge_df[\"hit_z\"].apply(tuple).explode().hist()"
   ]
  },
  {
   "cell_type": "markdown",
   "metadata": {},
   "source": [
    "# Data fit"
   ]
  },
  {
   "cell_type": "markdown",
   "metadata": {},
   "source": [
    "## Fake data map"
   ]
  },
  {
   "cell_type": "code",
   "execution_count": null,
   "metadata": {},
   "outputs": [],
   "source": [
    "plot_fake_data(\n",
    "    [1] if params.simulate_dead_area else [],\n",
    "    buffer=(params.xy_epsilon - 1),\n",
    ")\n",
    "if params.show_figures:\n",
    "    plt.show()\n",
    "else:\n",
    "    plt.close(\"all\")"
   ]
  },
  {
   "cell_type": "markdown",
   "metadata": {},
   "source": [
    "## Main loop"
   ]
  },
  {
   "cell_type": "code",
   "execution_count": null,
   "metadata": {},
   "outputs": [],
   "source": [
    "# Suppress the UndefinedMetricWarning\n",
    "warnings.filterwarnings(\"ignore\", category=Warning, module=\"sklearn\")"
   ]
  },
  {
   "cell_type": "code",
   "execution_count": null,
   "metadata": {},
   "outputs": [],
   "source": [
    "metrics = {}\n",
    "\n",
    "if params.event_list is None:\n",
    "    index_list = charge_df.index\n",
    "else:\n",
    "    index_list = charge_df.index.intersection(params.event_list)\n",
    "\n",
    "for i, idx in enumerate(tqdm(index_list)):\n",
    "    charge_values = pd.DataFrame(\n",
    "        charge_df.loc[\n",
    "            idx,\n",
    "            [\n",
    "                \"hit_x\",\n",
    "                \"hit_y\",\n",
    "                \"hit_z\",\n",
    "                \"hit_q\",\n",
    "            ],\n",
    "        ].to_list(),\n",
    "        index=[\"x\", \"y\", \"z\", \"q\"],\n",
    "    ).T\n",
    "\n",
    "    # charge_values[\"q\"] = charge_values[\"q\"] * charge_gain  # Convert mV to ke\n",
    "\n",
    "    if len(charge_values) > 2:\n",
    "        # Create a design matrix\n",
    "        labels = cluster_hits(\n",
    "            charge_values[[\"x\", \"y\", \"z\"]].to_numpy(),\n",
    "        )\n",
    "        # Fit clusters\n",
    "        metrics[idx] = fit_hit_clusters(\n",
    "            charge_values[[\"x\", \"y\", \"z\"]].to_numpy(),\n",
    "            charge_values[\"q\"].to_numpy(),\n",
    "            labels,\n",
    "            # refit_outliers=False,\n",
    "        )\n",
    "        if idx in params.individual_plots:\n",
    "            _ = event_display(\n",
    "                event_idx=idx,\n",
    "                charge_df=charge_values,\n",
    "                metrics=metrics[idx],\n",
    "                plot_cyl=False,\n",
    "            )\n",
    "            if params.show_figures:\n",
    "                plt.show()\n",
    "            else:\n",
    "                plt.close()\n",
    "\n",
    "        # metrics[idx][\n",
    "        #     \"Pixel_mask\"\n",
    "        # ] = mask.to_numpy()  # Save masks to original dataframe for reference\n",
    "        metrics[idx][\"Total_charge\"] = charge_values[\"q\"].sum()"
   ]
  },
  {
   "cell_type": "code",
   "execution_count": null,
   "metadata": {},
   "outputs": [],
   "source": [
    "# Reset the warning filter (optional)\n",
    "warnings.filterwarnings(\"default\", category=Warning)"
   ]
  },
  {
   "cell_type": "markdown",
   "metadata": {},
   "source": [
    "## Metrics"
   ]
  },
  {
   "cell_type": "code",
   "execution_count": null,
   "metadata": {},
   "outputs": [],
   "source": [
    "# Save the metrics to a pickle file\n",
    "metrics_file = f\"{params.output_folder}/metrics_{params.output_folder}.pkl\"\n",
    "if params.overwrite_metrics or not os.path.isfile(metrics_file):\n",
    "    with open(metrics_file, \"wb\") as f:\n",
    "        pickle.dump(metrics, f)\n",
    "\n",
    "    print(f\"Metrics saved to {metrics_file}\")"
   ]
  },
  {
   "cell_type": "code",
   "execution_count": null,
   "metadata": {},
   "outputs": [],
   "source": [
    "metrics"
   ]
  },
  {
   "cell_type": "code",
   "execution_count": null,
   "metadata": {},
   "outputs": [],
   "source": []
  }
 ],
 "metadata": {
  "kernelspec": {
   "display_name": ".venv",
   "language": "python",
   "name": "python3"
  },
  "language_info": {
   "codemirror_mode": {
    "name": "ipython",
    "version": 3
   },
   "file_extension": ".py",
   "mimetype": "text/x-python",
   "name": "python",
   "nbconvert_exporter": "python",
   "pygments_lexer": "ipython3",
   "version": "3.12.7"
  }
 },
 "nbformat": 4,
 "nbformat_minor": 2
}
